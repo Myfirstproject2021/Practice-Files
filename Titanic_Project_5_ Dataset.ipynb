{
 "cells": [
  {
   "cell_type": "code",
   "execution_count": null,
   "id": "7c97022b",
   "metadata": {},
   "outputs": [],
   "source": [
    "import pandas as pd\n",
    "import numpy as np\n",
    "from sklearn.preprocessing import StandardScaler\n",
    "from sklearn.model_selection import train_test_split,GridSearchCV\n",
    "import statsmodels.api as sm\n",
    "from statsmodels.stats.outliers_influence import variance_inflation_factor\n",
    "from sklearn import metrics\n",
    "from sklearn.metrics import classification_report, confusion_matrix\n",
    "from sklearn.model_selection import GridSearchCV\n",
    "import matplotlib.pyplot as plt\n",
    "import seaborn as sns\n",
    "import pickle\n",
    "\n",
    "import warnings\n",
    "warnings.filterwarnings('ignore')"
   ]
  },
  {
   "cell_type": "code",
   "execution_count": null,
   "id": "723dd302",
   "metadata": {},
   "outputs": [],
   "source": [
    "df=pd.read_csv(\"C:/Users/surendar.reddy/Documents/data Science projet_Data traine/DataTrained_Project_Week-1/titanic_train.csv\")\n",
    "pd.set_option('display.max_rows', None)\n",
    "df"
   ]
  },
  {
   "cell_type": "code",
   "execution_count": null,
   "id": "62b6476f",
   "metadata": {},
   "outputs": [],
   "source": [
    "df.shape"
   ]
  },
  {
   "cell_type": "code",
   "execution_count": null,
   "id": "7fc5c39d",
   "metadata": {},
   "outputs": [],
   "source": [
    "df.columns\n",
    "#Survived-Label"
   ]
  },
  {
   "cell_type": "code",
   "execution_count": null,
   "id": "5abae77c",
   "metadata": {},
   "outputs": [],
   "source": [
    "df.info()\n",
    "#Need Encoding columns-sex, Embarked\n",
    "#drop columns; Just for information-Name,ticket,Cabin(Not of Null Value)\n",
    "#change to int65-Age"
   ]
  },
  {
   "cell_type": "code",
   "execution_count": null,
   "id": "1b96bf4d",
   "metadata": {},
   "outputs": [],
   "source": [
    "df.isnull().sum()\n",
    "#Age need Imputation-I prefer Deleting nan, because Age would be a very important parameter for influencing Survival rate"
   ]
  },
  {
   "cell_type": "code",
   "execution_count": null,
   "id": "761b35bb",
   "metadata": {},
   "outputs": [],
   "source": [
    "#Encoding Done\n",
    "\n",
    "from sklearn import preprocessing\n",
    "LE=preprocessing.LabelEncoder()\n",
    "\n",
    "df['Embarked']=LE.fit_transform(df['Embarked'])\n",
    "df['Sex']=df['Sex'].replace({'male':1, 'female':0})\n"
   ]
  },
  {
   "cell_type": "markdown",
   "id": "30b6df81",
   "metadata": {},
   "source": [
    "char_cabin=df['Cabin'].astype(str)\n",
    "new_cabin=np.array([cabin[0]for cabin in char_cabin])\n",
    "df['Cabin']=new_cabin\n",
    "\n",
    "#As there are many nan and cannot delete them,  and practically knowing this would not influence the survival rate, Encoding this column\n",
    "df['Cabin']=LE.fit_transform(df['Cabin'])\n"
   ]
  },
  {
   "cell_type": "code",
   "execution_count": null,
   "id": "6ce5cde0",
   "metadata": {},
   "outputs": [],
   "source": [
    "df.info()\n",
    "#deleteing missing Age details, As practically survival rate might get influenced by Age of the passanger, So decided not to impute"
   ]
  },
  {
   "cell_type": "code",
   "execution_count": null,
   "id": "88d44fd2",
   "metadata": {},
   "outputs": [],
   "source": [
    "df.dropna(subset=['Age'],inplace=True)"
   ]
  },
  {
   "cell_type": "code",
   "execution_count": null,
   "id": "09d23c1d",
   "metadata": {},
   "outputs": [],
   "source": [
    "df.info()\n",
    "#PassengerID, Name, Ticket do not matter for suvival/dead, As there are just Values and catogorical in this dataset, so planned to drop given for a paggender"
   ]
  },
  {
   "cell_type": "code",
   "execution_count": null,
   "id": "6936b249",
   "metadata": {},
   "outputs": [],
   "source": [
    "df.drop(['Name'],inplace=True,axis=1)\n",
    "df.drop(['PassengerId'],inplace=True,axis=1)\n",
    "df.drop(['Ticket'],inplace=True,axis=1)\n",
    "df.drop(['Cabin'],inplace=True,axis=1)"
   ]
  },
  {
   "cell_type": "code",
   "execution_count": null,
   "id": "b270b40e",
   "metadata": {},
   "outputs": [],
   "source": [
    "df.shape"
   ]
  },
  {
   "cell_type": "code",
   "execution_count": null,
   "id": "87185420",
   "metadata": {},
   "outputs": [],
   "source": [
    "df['Survived'].value_counts()\n",
    "#Feel it is balanced"
   ]
  },
  {
   "cell_type": "code",
   "execution_count": null,
   "id": "1fd8acfa",
   "metadata": {},
   "outputs": [],
   "source": [
    "df.describe()"
   ]
  },
  {
   "cell_type": "code",
   "execution_count": null,
   "id": "af4c3e5c",
   "metadata": {},
   "outputs": [],
   "source": [
    "Corr=df.corr()\n",
    "plt.figure(figsize=(6,5))\n",
    "sns.heatmap(Corr,annot=True)\n",
    "plt.show()\n",
    "#This Map shows that the columns are very less correlation betwee the attributes"
   ]
  },
  {
   "cell_type": "code",
   "execution_count": null,
   "id": "3e129a78",
   "metadata": {},
   "outputs": [],
   "source": [
    "plt.figure(figsize=(20,20),facecolor='white')\n",
    "plotnumber=1\n",
    "\n",
    "for column in df:\n",
    "    if plotnumber<=12:\n",
    "        ax=plt.subplot(3,4,plotnumber)\n",
    "        sns.distplot(df[column])\n",
    "        plt.xlabel(column,fontsize=20)\n",
    "    plotnumber+=1\n",
    "plt.tight_layout()  \n",
    "\n",
    "#Catogorical columns-Noting to do with distibution-pClass, Sex, Sibsi, Parch, Embarked\n",
    "#would check for skewness for Age and fare\n"
   ]
  },
  {
   "cell_type": "code",
   "execution_count": null,
   "id": "cde6ce53",
   "metadata": {},
   "outputs": [],
   "source": [
    "x_normalized=pd.DataFrame({})\n",
    "x_normalized['Age']=df['Age']\n",
    "x_normalized['Fare']=df['Fare']\n",
    "x_normalized.skew().sort_values(ascending=False)\n",
    "#There need a screwness correction for Fare"
   ]
  },
  {
   "cell_type": "code",
   "execution_count": null,
   "id": "d04ca19e",
   "metadata": {},
   "outputs": [],
   "source": [
    "x_normalized.drop(['Age'],inplace=True,axis=1)\n"
   ]
  },
  {
   "cell_type": "code",
   "execution_count": null,
   "id": "a23544b1",
   "metadata": {},
   "outputs": [],
   "source": [
    "x_normalized.info()"
   ]
  },
  {
   "cell_type": "code",
   "execution_count": null,
   "id": "92fd57aa",
   "metadata": {},
   "outputs": [],
   "source": [
    "#Screwness Correction\n",
    "from sklearn.preprocessing import power_transform\n",
    "x_new=power_transform(x_normalized)\n",
    "#x_new=pd.DataFrame(x_new,columns=['Fare'])\n",
    "df['Fare']=x_new\n"
   ]
  },
  {
   "cell_type": "code",
   "execution_count": null,
   "id": "047fc135",
   "metadata": {},
   "outputs": [],
   "source": [
    "df.info()"
   ]
  },
  {
   "cell_type": "code",
   "execution_count": null,
   "id": "2142c1ce",
   "metadata": {},
   "outputs": [],
   "source": [
    "x=df.drop(columns=['Survived'],axis=1)\n",
    "y=df['Survived']\n",
    "x"
   ]
  },
  {
   "cell_type": "code",
   "execution_count": null,
   "id": "b938044c",
   "metadata": {},
   "outputs": [],
   "source": [
    "scaler=StandardScaler()\n",
    "x_scaled=scaler.fit_transform(x)\n",
    "x_scaled.shape"
   ]
  },
  {
   "cell_type": "code",
   "execution_count": null,
   "id": "020ca03f",
   "metadata": {},
   "outputs": [],
   "source": [
    "x_scaled.shape"
   ]
  },
  {
   "cell_type": "markdown",
   "id": "bac63f3f",
   "metadata": {},
   "source": [
    "#Would Apply PCA technique as there is very less correlation of features with the target, Soo Principal component Analysis would reduce the dimentions of the features.\n",
    "because I really do not understand which features would help me to predict, the features look very unrealted"
   ]
  },
  {
   "cell_type": "code",
   "execution_count": null,
   "id": "10b1b3ef",
   "metadata": {},
   "outputs": [],
   "source": [
    "from sklearn.decomposition import PCA"
   ]
  },
  {
   "cell_type": "code",
   "execution_count": null,
   "id": "11656ee5",
   "metadata": {},
   "outputs": [],
   "source": [
    "pca=PCA()\n",
    "components=pca.fit_transform(x_scaled)"
   ]
  },
  {
   "cell_type": "code",
   "execution_count": null,
   "id": "6182682d",
   "metadata": {},
   "outputs": [],
   "source": [
    "plt.figure\n",
    "plt.plot(np.cumsum(pca.explained_variance_ratio_))\n",
    "plt.xlabel('princial_components')\n",
    "plt.ylabel('variance covered')\n",
    "plt.title('PCA')\n",
    "plt.show()\n",
    "#I will use all 6 componets for model building "
   ]
  },
  {
   "cell_type": "code",
   "execution_count": null,
   "id": "4edd781e",
   "metadata": {},
   "outputs": [],
   "source": [
    "principl_component=pd.DataFrame(componets,columns=['PC1','PC2','PC3','PC4','PC5','PC6','PC7'])\n",
    "principl_component.drop(['PC7'],inplace=True,axis=1)\n",
    "principl_component"
   ]
  },
  {
   "cell_type": "code",
   "execution_count": null,
   "id": "a8c514be",
   "metadata": {},
   "outputs": [],
   "source": [
    "#Train the data to the model\n",
    "x_train, x_test, y_train, y_test=train_test_split(principl_component,y,test_size=0.25, random_state=100)"
   ]
  },
  {
   "cell_type": "code",
   "execution_count": null,
   "id": "42da11ec",
   "metadata": {},
   "outputs": [],
   "source": [
    "from sklearn.ensemble import RandomForestClassifier\n",
    "RF=RandomForestClassifier()\n",
    "RF.fit(x_train,y_train)\n",
    "y_pred=RF.predict(x_test)\n",
    "print(classification_report(y_test,y_pred,digits=2))"
   ]
  },
  {
   "cell_type": "code",
   "execution_count": null,
   "id": "ed528eaf",
   "metadata": {},
   "outputs": [],
   "source": [
    "from sklearn.ensemble import BaggingClassifier\n",
    "bclf=BaggingClassifier()\n",
    "bclf.fit(x_train,y_train)\n",
    "y_pred=bclf.predict(x_test)\n",
    "print(classification_report(y_test,y_pred,digits=2))"
   ]
  },
  {
   "cell_type": "code",
   "execution_count": null,
   "id": "94041b83",
   "metadata": {},
   "outputs": [],
   "source": [
    "from sklearn.neighbors import KNeighborsClassifier\n",
    "knn=KNeighborsClassifier()\n",
    "knn.fit(x_train,y_train)\n",
    "y_pred=knn.predict(x_test)\n",
    "\n",
    "print(classification_report(y_test,y_pred,digits=2))"
   ]
  },
  {
   "cell_type": "code",
   "execution_count": null,
   "id": "7fbdf8dc",
   "metadata": {},
   "outputs": [],
   "source": [
    "from sklearn.tree import DecisionTreeClassifier\n",
    "clf=DecisionTreeClassifier()\n",
    "clf.fit(x_train,y_train)\n",
    "y_pred=clf.predict(x_test)\n",
    "print(classification_report(y_test,y_pred,digits=2))"
   ]
  },
  {
   "cell_type": "code",
   "execution_count": null,
   "id": "59b35ac5",
   "metadata": {},
   "outputs": [],
   "source": [
    "from sklearn.svm import SVC\n",
    "svc=SVC()\n",
    "svc.fit(x_train,y_train)\n",
    "y_pred=svc.predict(x_test)\n",
    "print(classification_report(y_test,y_pred,digits=2))"
   ]
  },
  {
   "cell_type": "code",
   "execution_count": null,
   "id": "a79c2112",
   "metadata": {},
   "outputs": [],
   "source": [
    "#Will Go with SVC as its presion on both the labels is equally good.\n",
    "#Hypertunning SVC"
   ]
  },
  {
   "cell_type": "code",
   "execution_count": null,
   "id": "5f768ec7",
   "metadata": {},
   "outputs": [],
   "source": [
    "params={'C':[ 1, 3, 5, 7, 8,  12, 15, 18, 20],\n",
    "   'gamma':[0.1, 0.4, 0.8, 1]}\n",
    "GSCV=GridSearchCV(svc,params)\n",
    "GSCV.fit(x_train,y_train)\n",
    "GSCV.best_params_"
   ]
  },
  {
   "cell_type": "code",
   "execution_count": null,
   "id": "1fea26ac",
   "metadata": {},
   "outputs": [],
   "source": [
    "from sklearn.svm import SVC\n",
    "svc=SVC(C=1, gamma=0.1)\n",
    "svc.fit(x_train,y_train)\n",
    "y_pred=svc.predict(x_test)\n",
    "print(classification_report(y_test,y_pred,digits=2))"
   ]
  },
  {
   "cell_type": "code",
   "execution_count": null,
   "id": "5451c102",
   "metadata": {},
   "outputs": [],
   "source": [
    "#svc.get_params().keys()"
   ]
  },
  {
   "cell_type": "code",
   "execution_count": null,
   "id": "c959ffcd",
   "metadata": {},
   "outputs": [],
   "source": [
    "with open(\"svc\", \"wb\") as f:\n",
    "    pickle.dump(svc, f)"
   ]
  },
  {
   "cell_type": "code",
   "execution_count": null,
   "id": "80d0e7b7",
   "metadata": {},
   "outputs": [],
   "source": []
  }
 ],
 "metadata": {
  "kernelspec": {
   "display_name": "Python 3 (ipykernel)",
   "language": "python",
   "name": "python3"
  },
  "language_info": {
   "codemirror_mode": {
    "name": "ipython",
    "version": 3
   },
   "file_extension": ".py",
   "mimetype": "text/x-python",
   "name": "python",
   "nbconvert_exporter": "python",
   "pygments_lexer": "ipython3",
   "version": "3.9.7"
  }
 },
 "nbformat": 4,
 "nbformat_minor": 5
}
