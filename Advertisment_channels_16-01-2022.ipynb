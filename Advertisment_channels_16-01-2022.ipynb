{
 "cells": [
  {
   "cell_type": "code",
   "execution_count": null,
   "id": "d2999c72",
   "metadata": {},
   "outputs": [],
   "source": [
    "import pandas as pd\n",
    "import numpy as np\n",
    "from sklearn.preprocessing import StandardScaler\n",
    "from sklearn.model_selection import train_test_split\n",
    "import statsmodels.api as sm\n",
    "from statsmodels.stats.outliers_influence import variance_inflation_factor\n",
    "from sklearn import metrics\n",
    "import matplotlib.pyplot as plt\n",
    "import seaborn as sns\n",
    "import pickle\n",
    "#from sklearn.linear_model import LinearRegression\n",
    "import warnings\n",
    "warnings.filterwarnings('ignore')"
   ]
  },
  {
   "cell_type": "code",
   "execution_count": null,
   "id": "723dd302",
   "metadata": {},
   "outputs": [],
   "source": [
    "df=pd.read_csv(\"C:/Users/surendar.reddy/Documents/data Science projet_Data traine/DataTrained_Project_Week-1/Advertising.csv\")\n",
    "pd.set_option('display.max_rows', None)\n",
    "df"
   ]
  },
  {
   "cell_type": "code",
   "execution_count": null,
   "id": "ceb0469b",
   "metadata": {},
   "outputs": [],
   "source": [
    "df.shape"
   ]
  },
  {
   "cell_type": "code",
   "execution_count": null,
   "id": "02f78216",
   "metadata": {},
   "outputs": [],
   "source": [
    "df.info()\n",
    "#No Null Values\n",
    "#Unnamed looks a default columns\n",
    "#No need Imputation or Encoding required for the dataset"
   ]
  },
  {
   "cell_type": "code",
   "execution_count": null,
   "id": "f1072271",
   "metadata": {},
   "outputs": [],
   "source": [
    "df.describe()\n",
    "#Data looks okay"
   ]
  },
  {
   "cell_type": "code",
   "execution_count": null,
   "id": "2d251f5c",
   "metadata": {},
   "outputs": [],
   "source": [
    "df.isnull().sum()"
   ]
  },
  {
   "cell_type": "code",
   "execution_count": null,
   "id": "de6d30d1",
   "metadata": {},
   "outputs": [],
   "source": [
    "df.drop(['Unnamed: 0'],inplace=True, axis=1)"
   ]
  },
  {
   "cell_type": "code",
   "execution_count": null,
   "id": "bfc6aefd",
   "metadata": {},
   "outputs": [],
   "source": [
    "#Check how the data looks, with respect to distribution\n",
    "plt.figure(figsize=(20,20),facecolor='white')\n",
    "plotnumber=1\n",
    "for column in df:\n",
    "    if plotnumber<=12:\n",
    "        ax=plt.subplot(3,4,plotnumber)\n",
    "        sns.distplot(df[column])\n",
    "        plt.xlabel(column,fontsize=20)\n",
    "    plotnumber+=1\n",
    "plt.tight_layout()"
   ]
  },
  {
   "cell_type": "code",
   "execution_count": null,
   "id": "4ccbd20a",
   "metadata": {},
   "outputs": [],
   "source": [
    "df.skew()\n",
    "#Only Newpaper data requires correlation correction"
   ]
  },
  {
   "cell_type": "code",
   "execution_count": null,
   "id": "77da81b5",
   "metadata": {},
   "outputs": [],
   "source": [
    "#check for the correlation aspect between the fetures\n",
    "corr=df.corr()\n",
    "plt.figure(figsize=(3,3))\n",
    "sns.heatmap(corr,annot=True)\n",
    "plt.show()\n",
    "#Advertisment in TV is more correlated to Sales, then Radio and then Newpaper"
   ]
  },
  {
   "cell_type": "code",
   "execution_count": null,
   "id": "2c2e7c55",
   "metadata": {},
   "outputs": [],
   "source": [
    "#We do not need to check for multicollinerity as there are 3 means of Adversiment for Total sales\n",
    "plt.figure(figsize=(20,20),facecolor='white')\n",
    "plotnumber=1\n",
    "for column in df:\n",
    "    if plotnumber<=12:\n",
    "        ax=plt.subplot(3,4,plotnumber)\n",
    "        sns.scatterplot(df[column],df['sales'])\n",
    "        plt.xlabel(column,fontsize=20)\n",
    "    plotnumber+=1\n",
    "plt.tight_layout()"
   ]
  },
  {
   "cell_type": "code",
   "execution_count": null,
   "id": "c5c9394c",
   "metadata": {},
   "outputs": [],
   "source": [
    "x=df.drop(columns=['sales'],axis=1)\n",
    "y=df['sales']"
   ]
  },
  {
   "cell_type": "code",
   "execution_count": null,
   "id": "3dcc97e3",
   "metadata": {},
   "outputs": [],
   "source": [
    "#Let do trasformation of the features o reduce screwness\n",
    "#Screwness Correction\n",
    "from sklearn.preprocessing import power_transform\n",
    "x_new=power_transform(x)\n",
    "x=pd.DataFrame(x_new,columns=x.columns)\n",
    "x.skew().sort_values(ascending=False)\n",
    "#Now the screwness is rectified from Fetures\n",
    "#These values look more convincing"
   ]
  },
  {
   "cell_type": "code",
   "execution_count": null,
   "id": "41105774",
   "metadata": {},
   "outputs": [],
   "source": [
    "plt.figure(figsize=(20,20),facecolor='white')\n",
    "plotnumber=1\n",
    "for column in x:\n",
    "    if plotnumber<=12:\n",
    "        ax=plt.subplot(3,4,plotnumber)\n",
    "        sns.distplot(x[column])\n",
    "        plt.xlabel(column,fontsize=20)\n",
    "    plotnumber+=1\n",
    "plt.tight_layout()"
   ]
  },
  {
   "cell_type": "code",
   "execution_count": null,
   "id": "aa4f5b6b",
   "metadata": {},
   "outputs": [],
   "source": [
    "scaler=StandardScaler()\n",
    "x_scaled=scaler.fit_transform(x)\n",
    "x_scaled"
   ]
  },
  {
   "cell_type": "code",
   "execution_count": null,
   "id": "f8a737c4",
   "metadata": {},
   "outputs": [],
   "source": [
    "#Train the data to the model\n",
    "x_train, x_test, y_train, y_test=train_test_split(x_scaled,y,test_size=0.25, random_state=100)"
   ]
  },
  {
   "cell_type": "code",
   "execution_count": null,
   "id": "5736cf31",
   "metadata": {},
   "outputs": [],
   "source": [
    "from sklearn.linear_model import LinearRegression\n",
    "reg=LinearRegression()\n",
    "reg.fit(x_train,y_train)\n",
    "y_pred=reg.predict(x_test)\n",
    "reg_accuracy=metrics.r2_score(y_test,y_pred)\n",
    "print(reg_accuracy)"
   ]
  },
  {
   "cell_type": "code",
   "execution_count": null,
   "id": "5b685f5f",
   "metadata": {},
   "outputs": [],
   "source": [
    "from sklearn.ensemble import AdaBoostRegressor\n",
    "ada=AdaBoostRegressor()\n",
    "ada.fit(x_train,y_train)\n",
    "y_pred=ada.predict(x_test)\n",
    "ada_accuracy=metrics.r2_score(y_test,y_pred)\n",
    "print(ada_accuracy)"
   ]
  },
  {
   "cell_type": "code",
   "execution_count": null,
   "id": "3b453bfc",
   "metadata": {},
   "outputs": [],
   "source": [
    "from sklearn.ensemble import RandomForestRegressor\n",
    "RFR=RandomForestRegressor()\n",
    "RFR.fit(x_train,y_train,sample_weight=100)\n",
    "y_pred=RFR.predict(x_test)\n",
    "RFR_accuracy=metrics.r2_score(y_test,y_pred)\n",
    "print(RFR_accuracy)"
   ]
  },
  {
   "cell_type": "code",
   "execution_count": null,
   "id": "8fa950af",
   "metadata": {},
   "outputs": [],
   "source": [
    "#Lets check if the RF accuracy is not overfitting the model\n",
    "\n",
    "from sklearn.model_selection import KFold,cross_val_score\n",
    "k_f=KFold(n_splits=5, shuffle=True)\n",
    "k_f\n",
    "x_scaled=pd.DataFrame(x_scaled,columns=x.columns)\n",
    "from sklearn.metrics import accuracy_score\n",
    "k=5\n",
    "acc_score = []\n",
    "\n",
    "for train_index , test_index in k_f.split(x_scaled):\n",
    "    x_train , x_test = x_scaled.iloc[train_index,:],x_scaled.iloc[test_index,:]\n",
    "    y_train , y_test = y[train_index] , y[test_index]\n",
    "     \n",
    "    RFR.fit(x_train,y_train)\n",
    "    pred_values = RFR.predict(x_test)\n",
    "     \n",
    "    acc = metrics.r2_score(y_test,pred_values)\n",
    "    acc_score.append(acc)\n",
    "     \n",
    "avg_acc_score = sum(acc_score)/k\n",
    " \n",
    "print('accuracy of each fold - {}'.format(acc_score))\n",
    "print('Avg accuracy : {}'.format(avg_acc_score))"
   ]
  },
  {
   "cell_type": "code",
   "execution_count": null,
   "id": "804f7685",
   "metadata": {},
   "outputs": [],
   "source": [
    "#This model looka good, The cross validation scores and actual scores are not very different\n",
    "#will Hypertune the model if we can improve the score"
   ]
  },
  {
   "cell_type": "code",
   "execution_count": null,
   "id": "c5a69e5f",
   "metadata": {},
   "outputs": [],
   "source": [
    "from sklearn.model_selection import GridSearchCV\n",
    "\n",
    "RFR=RandomForestRegressor()\n",
    "params={'n_estimators':[60,70,90],\n",
    "        'criterion':['mse','gini'],\n",
    "        'max_depth':[10,11,12,13,14,15,16,17,18,19,20],\n",
    "         'min_samples_split':[10,11,15],\n",
    "         'min_samples_leaf':[4,5]\n",
    "       }\n",
    "grd=GridSearchCV(RFR,param_grid=params,)\n",
    "grd.fit(x_train,y_train)\n",
    "RFR=grd.best_estimator_\n",
    "y_pred=RFR.predict(x_test)\n",
    "RFR_accuracy=metrics.r2_score(y_test,y_pred)\n",
    "RFR_accuracy"
   ]
  },
  {
   "cell_type": "code",
   "execution_count": null,
   "id": "be6ff5b5",
   "metadata": {},
   "outputs": [],
   "source": [
    "#Could not improve much on Hypertunning aftermultiple attems also.\n",
    "with open(\"RFR\", \"wb\") as f:\n",
    "    pickle.dump(svc, f)"
   ]
  }
 ],
 "metadata": {
  "kernelspec": {
   "display_name": "Python 3 (ipykernel)",
   "language": "python",
   "name": "python3"
  },
  "language_info": {
   "codemirror_mode": {
    "name": "ipython",
    "version": 3
   },
   "file_extension": ".py",
   "mimetype": "text/x-python",
   "name": "python",
   "nbconvert_exporter": "python",
   "pygments_lexer": "ipython3",
   "version": "3.9.7"
  }
 },
 "nbformat": 4,
 "nbformat_minor": 5
}
